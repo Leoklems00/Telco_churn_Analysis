{
 "cells": [
  {
   "cell_type": "markdown",
   "id": "754ea85e",
   "metadata": {},
   "source": [
    "# Telco Customer Churn Analysis"
   ]
  },
  {
   "cell_type": "markdown",
   "id": "c297d147",
   "metadata": {},
   "source": [
    "## Introduction\n",
    "\n",
    "Telco: A telecommunication company is experiencing a massive customer loss. They intend solving this problem and hired you as a Data Analyst. \n",
    "It's your responsibility as the Data Analyst to come up with the Report or a Dashboard that best solve this problem. "
   ]
  },
  {
   "cell_type": "code",
   "execution_count": 1,
   "id": "1e12eb31",
   "metadata": {},
   "outputs": [],
   "source": [
    "import numpy as np\n",
    "import matplotlib.pyplot as plt\n",
    "import pandas as pd\n",
    "import seaborn as sns"
   ]
  },
  {
   "cell_type": "code",
   "execution_count": 2,
   "id": "daed0653",
   "metadata": {},
   "outputs": [
    {
     "data": {
      "text/html": [
       "<div>\n",
       "<style scoped>\n",
       "    .dataframe tbody tr th:only-of-type {\n",
       "        vertical-align: middle;\n",
       "    }\n",
       "\n",
       "    .dataframe tbody tr th {\n",
       "        vertical-align: top;\n",
       "    }\n",
       "\n",
       "    .dataframe thead th {\n",
       "        text-align: right;\n",
       "    }\n",
       "</style>\n",
       "<table border=\"1\" class=\"dataframe\">\n",
       "  <thead>\n",
       "    <tr style=\"text-align: right;\">\n",
       "      <th></th>\n",
       "      <th>customerID</th>\n",
       "      <th>gender</th>\n",
       "      <th>SeniorCitizen</th>\n",
       "      <th>Partner</th>\n",
       "      <th>Dependents</th>\n",
       "      <th>tenure</th>\n",
       "      <th>PhoneService</th>\n",
       "      <th>MultipleLines</th>\n",
       "      <th>InternetService</th>\n",
       "      <th>OnlineSecurity</th>\n",
       "      <th>...</th>\n",
       "      <th>DeviceProtection</th>\n",
       "      <th>TechSupport</th>\n",
       "      <th>StreamingTV</th>\n",
       "      <th>StreamingMovies</th>\n",
       "      <th>Contract</th>\n",
       "      <th>PaperlessBilling</th>\n",
       "      <th>PaymentMethod</th>\n",
       "      <th>MonthlyCharges</th>\n",
       "      <th>TotalCharges</th>\n",
       "      <th>Churn</th>\n",
       "    </tr>\n",
       "  </thead>\n",
       "  <tbody>\n",
       "    <tr>\n",
       "      <th>0</th>\n",
       "      <td>7590-VHVEG</td>\n",
       "      <td>Female</td>\n",
       "      <td>0</td>\n",
       "      <td>Yes</td>\n",
       "      <td>No</td>\n",
       "      <td>1</td>\n",
       "      <td>No</td>\n",
       "      <td>No phone service</td>\n",
       "      <td>DSL</td>\n",
       "      <td>No</td>\n",
       "      <td>...</td>\n",
       "      <td>No</td>\n",
       "      <td>No</td>\n",
       "      <td>No</td>\n",
       "      <td>No</td>\n",
       "      <td>Month-to-month</td>\n",
       "      <td>Yes</td>\n",
       "      <td>Electronic check</td>\n",
       "      <td>29.85</td>\n",
       "      <td>29.85</td>\n",
       "      <td>No</td>\n",
       "    </tr>\n",
       "    <tr>\n",
       "      <th>1</th>\n",
       "      <td>5575-GNVDE</td>\n",
       "      <td>Male</td>\n",
       "      <td>0</td>\n",
       "      <td>No</td>\n",
       "      <td>No</td>\n",
       "      <td>34</td>\n",
       "      <td>Yes</td>\n",
       "      <td>No</td>\n",
       "      <td>DSL</td>\n",
       "      <td>Yes</td>\n",
       "      <td>...</td>\n",
       "      <td>Yes</td>\n",
       "      <td>No</td>\n",
       "      <td>No</td>\n",
       "      <td>No</td>\n",
       "      <td>One year</td>\n",
       "      <td>No</td>\n",
       "      <td>Mailed check</td>\n",
       "      <td>56.95</td>\n",
       "      <td>1889.5</td>\n",
       "      <td>No</td>\n",
       "    </tr>\n",
       "    <tr>\n",
       "      <th>2</th>\n",
       "      <td>3668-QPYBK</td>\n",
       "      <td>Male</td>\n",
       "      <td>0</td>\n",
       "      <td>No</td>\n",
       "      <td>No</td>\n",
       "      <td>2</td>\n",
       "      <td>Yes</td>\n",
       "      <td>No</td>\n",
       "      <td>DSL</td>\n",
       "      <td>Yes</td>\n",
       "      <td>...</td>\n",
       "      <td>No</td>\n",
       "      <td>No</td>\n",
       "      <td>No</td>\n",
       "      <td>No</td>\n",
       "      <td>Month-to-month</td>\n",
       "      <td>Yes</td>\n",
       "      <td>Mailed check</td>\n",
       "      <td>53.85</td>\n",
       "      <td>108.15</td>\n",
       "      <td>Yes</td>\n",
       "    </tr>\n",
       "    <tr>\n",
       "      <th>3</th>\n",
       "      <td>7795-CFOCW</td>\n",
       "      <td>Male</td>\n",
       "      <td>0</td>\n",
       "      <td>No</td>\n",
       "      <td>No</td>\n",
       "      <td>45</td>\n",
       "      <td>No</td>\n",
       "      <td>No phone service</td>\n",
       "      <td>DSL</td>\n",
       "      <td>Yes</td>\n",
       "      <td>...</td>\n",
       "      <td>Yes</td>\n",
       "      <td>Yes</td>\n",
       "      <td>No</td>\n",
       "      <td>No</td>\n",
       "      <td>One year</td>\n",
       "      <td>No</td>\n",
       "      <td>Bank transfer (automatic)</td>\n",
       "      <td>42.30</td>\n",
       "      <td>1840.75</td>\n",
       "      <td>No</td>\n",
       "    </tr>\n",
       "    <tr>\n",
       "      <th>4</th>\n",
       "      <td>9237-HQITU</td>\n",
       "      <td>Female</td>\n",
       "      <td>0</td>\n",
       "      <td>No</td>\n",
       "      <td>No</td>\n",
       "      <td>2</td>\n",
       "      <td>Yes</td>\n",
       "      <td>No</td>\n",
       "      <td>Fiber optic</td>\n",
       "      <td>No</td>\n",
       "      <td>...</td>\n",
       "      <td>No</td>\n",
       "      <td>No</td>\n",
       "      <td>No</td>\n",
       "      <td>No</td>\n",
       "      <td>Month-to-month</td>\n",
       "      <td>Yes</td>\n",
       "      <td>Electronic check</td>\n",
       "      <td>70.70</td>\n",
       "      <td>151.65</td>\n",
       "      <td>Yes</td>\n",
       "    </tr>\n",
       "    <tr>\n",
       "      <th>...</th>\n",
       "      <td>...</td>\n",
       "      <td>...</td>\n",
       "      <td>...</td>\n",
       "      <td>...</td>\n",
       "      <td>...</td>\n",
       "      <td>...</td>\n",
       "      <td>...</td>\n",
       "      <td>...</td>\n",
       "      <td>...</td>\n",
       "      <td>...</td>\n",
       "      <td>...</td>\n",
       "      <td>...</td>\n",
       "      <td>...</td>\n",
       "      <td>...</td>\n",
       "      <td>...</td>\n",
       "      <td>...</td>\n",
       "      <td>...</td>\n",
       "      <td>...</td>\n",
       "      <td>...</td>\n",
       "      <td>...</td>\n",
       "      <td>...</td>\n",
       "    </tr>\n",
       "    <tr>\n",
       "      <th>7038</th>\n",
       "      <td>6840-RESVB</td>\n",
       "      <td>Male</td>\n",
       "      <td>0</td>\n",
       "      <td>Yes</td>\n",
       "      <td>Yes</td>\n",
       "      <td>24</td>\n",
       "      <td>Yes</td>\n",
       "      <td>Yes</td>\n",
       "      <td>DSL</td>\n",
       "      <td>Yes</td>\n",
       "      <td>...</td>\n",
       "      <td>Yes</td>\n",
       "      <td>Yes</td>\n",
       "      <td>Yes</td>\n",
       "      <td>Yes</td>\n",
       "      <td>One year</td>\n",
       "      <td>Yes</td>\n",
       "      <td>Mailed check</td>\n",
       "      <td>84.80</td>\n",
       "      <td>1990.5</td>\n",
       "      <td>No</td>\n",
       "    </tr>\n",
       "    <tr>\n",
       "      <th>7039</th>\n",
       "      <td>2234-XADUH</td>\n",
       "      <td>Female</td>\n",
       "      <td>0</td>\n",
       "      <td>Yes</td>\n",
       "      <td>Yes</td>\n",
       "      <td>72</td>\n",
       "      <td>Yes</td>\n",
       "      <td>Yes</td>\n",
       "      <td>Fiber optic</td>\n",
       "      <td>No</td>\n",
       "      <td>...</td>\n",
       "      <td>Yes</td>\n",
       "      <td>No</td>\n",
       "      <td>Yes</td>\n",
       "      <td>Yes</td>\n",
       "      <td>One year</td>\n",
       "      <td>Yes</td>\n",
       "      <td>Credit card (automatic)</td>\n",
       "      <td>103.20</td>\n",
       "      <td>7362.9</td>\n",
       "      <td>No</td>\n",
       "    </tr>\n",
       "    <tr>\n",
       "      <th>7040</th>\n",
       "      <td>4801-JZAZL</td>\n",
       "      <td>Female</td>\n",
       "      <td>0</td>\n",
       "      <td>Yes</td>\n",
       "      <td>Yes</td>\n",
       "      <td>11</td>\n",
       "      <td>No</td>\n",
       "      <td>No phone service</td>\n",
       "      <td>DSL</td>\n",
       "      <td>Yes</td>\n",
       "      <td>...</td>\n",
       "      <td>No</td>\n",
       "      <td>No</td>\n",
       "      <td>No</td>\n",
       "      <td>No</td>\n",
       "      <td>Month-to-month</td>\n",
       "      <td>Yes</td>\n",
       "      <td>Electronic check</td>\n",
       "      <td>29.60</td>\n",
       "      <td>346.45</td>\n",
       "      <td>No</td>\n",
       "    </tr>\n",
       "    <tr>\n",
       "      <th>7041</th>\n",
       "      <td>8361-LTMKD</td>\n",
       "      <td>Male</td>\n",
       "      <td>1</td>\n",
       "      <td>Yes</td>\n",
       "      <td>No</td>\n",
       "      <td>4</td>\n",
       "      <td>Yes</td>\n",
       "      <td>Yes</td>\n",
       "      <td>Fiber optic</td>\n",
       "      <td>No</td>\n",
       "      <td>...</td>\n",
       "      <td>No</td>\n",
       "      <td>No</td>\n",
       "      <td>No</td>\n",
       "      <td>No</td>\n",
       "      <td>Month-to-month</td>\n",
       "      <td>Yes</td>\n",
       "      <td>Mailed check</td>\n",
       "      <td>74.40</td>\n",
       "      <td>306.6</td>\n",
       "      <td>Yes</td>\n",
       "    </tr>\n",
       "    <tr>\n",
       "      <th>7042</th>\n",
       "      <td>3186-AJIEK</td>\n",
       "      <td>Male</td>\n",
       "      <td>0</td>\n",
       "      <td>No</td>\n",
       "      <td>No</td>\n",
       "      <td>66</td>\n",
       "      <td>Yes</td>\n",
       "      <td>No</td>\n",
       "      <td>Fiber optic</td>\n",
       "      <td>Yes</td>\n",
       "      <td>...</td>\n",
       "      <td>Yes</td>\n",
       "      <td>Yes</td>\n",
       "      <td>Yes</td>\n",
       "      <td>Yes</td>\n",
       "      <td>Two year</td>\n",
       "      <td>Yes</td>\n",
       "      <td>Bank transfer (automatic)</td>\n",
       "      <td>105.65</td>\n",
       "      <td>6844.5</td>\n",
       "      <td>No</td>\n",
       "    </tr>\n",
       "  </tbody>\n",
       "</table>\n",
       "<p>7043 rows × 21 columns</p>\n",
       "</div>"
      ],
      "text/plain": [
       "      customerID  gender  SeniorCitizen Partner Dependents  tenure  \\\n",
       "0     7590-VHVEG  Female              0     Yes         No       1   \n",
       "1     5575-GNVDE    Male              0      No         No      34   \n",
       "2     3668-QPYBK    Male              0      No         No       2   \n",
       "3     7795-CFOCW    Male              0      No         No      45   \n",
       "4     9237-HQITU  Female              0      No         No       2   \n",
       "...          ...     ...            ...     ...        ...     ...   \n",
       "7038  6840-RESVB    Male              0     Yes        Yes      24   \n",
       "7039  2234-XADUH  Female              0     Yes        Yes      72   \n",
       "7040  4801-JZAZL  Female              0     Yes        Yes      11   \n",
       "7041  8361-LTMKD    Male              1     Yes         No       4   \n",
       "7042  3186-AJIEK    Male              0      No         No      66   \n",
       "\n",
       "     PhoneService     MultipleLines InternetService OnlineSecurity  ...  \\\n",
       "0              No  No phone service             DSL             No  ...   \n",
       "1             Yes                No             DSL            Yes  ...   \n",
       "2             Yes                No             DSL            Yes  ...   \n",
       "3              No  No phone service             DSL            Yes  ...   \n",
       "4             Yes                No     Fiber optic             No  ...   \n",
       "...           ...               ...             ...            ...  ...   \n",
       "7038          Yes               Yes             DSL            Yes  ...   \n",
       "7039          Yes               Yes     Fiber optic             No  ...   \n",
       "7040           No  No phone service             DSL            Yes  ...   \n",
       "7041          Yes               Yes     Fiber optic             No  ...   \n",
       "7042          Yes                No     Fiber optic            Yes  ...   \n",
       "\n",
       "     DeviceProtection TechSupport StreamingTV StreamingMovies        Contract  \\\n",
       "0                  No          No          No              No  Month-to-month   \n",
       "1                 Yes          No          No              No        One year   \n",
       "2                  No          No          No              No  Month-to-month   \n",
       "3                 Yes         Yes          No              No        One year   \n",
       "4                  No          No          No              No  Month-to-month   \n",
       "...               ...         ...         ...             ...             ...   \n",
       "7038              Yes         Yes         Yes             Yes        One year   \n",
       "7039              Yes          No         Yes             Yes        One year   \n",
       "7040               No          No          No              No  Month-to-month   \n",
       "7041               No          No          No              No  Month-to-month   \n",
       "7042              Yes         Yes         Yes             Yes        Two year   \n",
       "\n",
       "     PaperlessBilling              PaymentMethod MonthlyCharges  TotalCharges  \\\n",
       "0                 Yes           Electronic check          29.85         29.85   \n",
       "1                  No               Mailed check          56.95        1889.5   \n",
       "2                 Yes               Mailed check          53.85        108.15   \n",
       "3                  No  Bank transfer (automatic)          42.30       1840.75   \n",
       "4                 Yes           Electronic check          70.70        151.65   \n",
       "...               ...                        ...            ...           ...   \n",
       "7038              Yes               Mailed check          84.80        1990.5   \n",
       "7039              Yes    Credit card (automatic)         103.20        7362.9   \n",
       "7040              Yes           Electronic check          29.60        346.45   \n",
       "7041              Yes               Mailed check          74.40         306.6   \n",
       "7042              Yes  Bank transfer (automatic)         105.65        6844.5   \n",
       "\n",
       "     Churn  \n",
       "0       No  \n",
       "1       No  \n",
       "2      Yes  \n",
       "3       No  \n",
       "4      Yes  \n",
       "...    ...  \n",
       "7038    No  \n",
       "7039    No  \n",
       "7040    No  \n",
       "7041   Yes  \n",
       "7042    No  \n",
       "\n",
       "[7043 rows x 21 columns]"
      ]
     },
     "execution_count": 2,
     "metadata": {},
     "output_type": "execute_result"
    }
   ],
   "source": [
    "df = pd.read_csv('Telco-Customer-Churn.csv')\n",
    "df"
   ]
  },
  {
   "cell_type": "markdown",
   "id": "f2114cef",
   "metadata": {},
   "source": [
    "### Data Preparation"
   ]
  },
  {
   "cell_type": "code",
   "execution_count": 3,
   "id": "f9e76381",
   "metadata": {},
   "outputs": [],
   "source": [
    "df.TotalCharges = pd.to_numeric(df.TotalCharges, errors='coerce')"
   ]
  },
  {
   "cell_type": "code",
   "execution_count": 5,
   "id": "5f4d3bb1",
   "metadata": {},
   "outputs": [],
   "source": [
    "df_churned = df[df.Churn == \"Yes\"]\n",
    "df_no_churned = df[df.Churn == \"No\"]"
   ]
  },
  {
   "cell_type": "markdown",
   "id": "c9005daa",
   "metadata": {},
   "source": [
    "### Analysis"
   ]
  },
  {
   "cell_type": "code",
   "execution_count": 6,
   "id": "81c393c4",
   "metadata": {},
   "outputs": [
    {
     "data": {
      "text/plain": [
       "'26.54%'"
      ]
     },
     "execution_count": 6,
     "metadata": {},
     "output_type": "execute_result"
    }
   ],
   "source": [
    "churn_rate = round((df_churned.customerID.count()/df.customerID.count())*100,2)\n",
    "str(churn_rate)+\"% Churn rate\""
   ]
  },
  {
   "cell_type": "code",
   "execution_count": 37,
   "id": "2bae4cf4",
   "metadata": {},
   "outputs": [
    {
     "data": {
      "text/html": [
       "<div>\n",
       "<style scoped>\n",
       "    .dataframe tbody tr th:only-of-type {\n",
       "        vertical-align: middle;\n",
       "    }\n",
       "\n",
       "    .dataframe tbody tr th {\n",
       "        vertical-align: top;\n",
       "    }\n",
       "\n",
       "    .dataframe thead th {\n",
       "        text-align: right;\n",
       "    }\n",
       "</style>\n",
       "<table border=\"1\" class=\"dataframe\">\n",
       "  <thead>\n",
       "    <tr style=\"text-align: right;\">\n",
       "      <th></th>\n",
       "      <th>no_of_customers</th>\n",
       "    </tr>\n",
       "    <tr>\n",
       "      <th>Contract</th>\n",
       "      <th></th>\n",
       "    </tr>\n",
       "  </thead>\n",
       "  <tbody>\n",
       "    <tr>\n",
       "      <th>Month-to-month</th>\n",
       "      <td>1655</td>\n",
       "    </tr>\n",
       "    <tr>\n",
       "      <th>One year</th>\n",
       "      <td>166</td>\n",
       "    </tr>\n",
       "    <tr>\n",
       "      <th>Two year</th>\n",
       "      <td>48</td>\n",
       "    </tr>\n",
       "  </tbody>\n",
       "</table>\n",
       "</div>"
      ],
      "text/plain": [
       "                no_of_customers\n",
       "Contract                       \n",
       "Month-to-month             1655\n",
       "One year                    166\n",
       "Two year                     48"
      ]
     },
     "execution_count": 37,
     "metadata": {},
     "output_type": "execute_result"
    }
   ],
   "source": [
    "df_churned_by_contract = df_churned.groupby('Contract').agg(no_of_customers = ('customerID','count'))\\\n",
    ".sort_values('no_of_customers', ascending=False)\n",
    "df_churned_by_tech_support = df_churned.groupby('TechSupport').agg(no_of_customers = ('customerID','count'))\\\n",
    ".sort_values('no_of_customers', ascending=False)"
   ]
  },
  {
   "cell_type": "code",
   "execution_count": 65,
   "id": "299111ac",
   "metadata": {
    "scrolled": true
   },
   "outputs": [
    {
     "data": {
      "image/png": "[encoded data removed]",
      "text/plain": [
       "<Figure size 1080x288 with 2 Axes>"
      ]
     },
     "metadata": {
      "needs_background": "light"
     },
     "output_type": "display_data"
    }
   ],
   "source": [
    "fig, (ax1, ax2) = plt.subplots(1,2,figsize=(15, 4))\n",
    "df_churned_by_contract_ = df_churned_by_contract.sort_values('no_of_customers', ascending=True)\n",
    "df_churned_by_contract_top = df_churned_by_contract_.tail(1)\n",
    "df_churned_by_contract_last = df_churned_by_contract_.head(2)\n",
    "\n",
    "\n",
    "ax1.barh(df_churned_by_contract_last.index, df_churned_by_contract_last.no_of_customers, color=\"gray\")\n",
    "ax1.barh(df_churned_by_contract_top.index, df_churned_by_contract_top.no_of_customers, color=\"orange\")\n",
    "\n",
    "ax1.set_xlabel(\"Number of customers\", fontsize=10)\n",
    "ax1.set_title(\"89% of churning customers are on Month-to-month contract \", fontsize=15)\n",
    "ax1.spines['top'].set_visible(False)\n",
    "# ax.spines['bottom'].set_visible(False)\n",
    "ax1.spines['left'].set_visible(False)\n",
    "ax1.spines['right'].set_visible(False)\n",
    "# -----------------------------------------------------------------------------------\n",
    "\n",
    "df_churned_by_tech_support_ = df_churned_by_tech_support.sort_values('no_of_customers', ascending=True)\n",
    "df_churned_by_contract_top = df_churned_by_tech_support_.tail(1)\n",
    "df_churned_by_contract_last = df_churned_by_tech_support_.head(2)\n",
    "\n",
    "\n",
    "ax2.barh(df_churned_by_contract_last.index, df_churned_by_contract_last.no_of_customers, color=\"gray\")\n",
    "ax2.barh(df_churned_by_contract_top.index, df_churned_by_contract_top.no_of_customers, color=\"orange\")\n",
    "\n",
    "ax2.set_xlabel(\"Number of customers\", fontsize=10)\n",
    "ax2.set_title(\"77% of churning customers do not have tech support\", fontsize=15)\n",
    "ax2.spines['top'].set_visible(False)\n",
    "# ax.spines['bottom'].set_visible(False)\n",
    "ax2.spines['left'].set_visible(False)\n",
    "ax2.spines['right'].set_visible(False)"
   ]
  },
  {
   "cell_type": "code",
   "execution_count": null,
   "id": "a5684b95",
   "metadata": {},
   "outputs": [],
   "source": [
    "df_churned_by_internet_service = df_churned.groupby('InternetService').agg(no_of_customers = ('customerID','count'))\\\n",
    ".sort_values('no_of_customers', ascending=False)\n",
    "df_churned_by_pay_method = df_churned.groupby('PaymentMethod').agg(no_of_customers = ('customerID','count'))\\\n",
    ".sort_values('no_of_customers', ascending=False)"
   ]
  },
  {
   "cell_type": "code",
   "execution_count": 69,
   "id": "848522ff",
   "metadata": {},
   "outputs": [
    {
     "data": {
      "image/png": "[encoded data removed]",
      "text/plain": [
       "<Figure size 1080x288 with 2 Axes>"
      ]
     },
     "metadata": {
      "needs_background": "light"
     },
     "output_type": "display_data"
    }
   ],
   "source": [
    "fig, (ax1, ax2) = plt.subplots(1,2,figsize=(15, 4))\n",
    "df_churned_by_internet_service_ = df_churned_by_internet_service.sort_values('no_of_customers', ascending=True)\n",
    "df_churned_by_contract_top = df_churned_by_internet_service_.tail(1)\n",
    "df_churned_by_contract_last = df_churned_by_internet_service_.head(2)\n",
    "\n",
    "\n",
    "ax1.barh(df_churned_by_contract_last.index, df_churned_by_contract_last.no_of_customers, color=\"gray\")\n",
    "ax1.barh(df_churned_by_contract_top.index, df_churned_by_contract_top.no_of_customers, color=\"orange\")\n",
    "\n",
    "ax1.set_xlabel(\"Number of customers\", fontsize=10)\n",
    "ax1.set_title(\"69% of churning customers use fiber optics internet\", fontsize=15)\n",
    "ax1.spines['top'].set_visible(False)\n",
    "# ax.spines['bottom'].set_visible(False)\n",
    "ax1.spines['left'].set_visible(False)\n",
    "ax1.spines['right'].set_visible(False)\n",
    "\n",
    "# -----------------------------------------------------------------------------------------\n",
    "\n",
    "df_churned_by_pay_method_ = df_churned_by_pay_method.sort_values('no_of_customers', ascending=True)\n",
    "df_churned_by_contract_top = df_churned_by_pay_method_.tail(1)\n",
    "df_churned_by_contract_last = df_churned_by_pay_method_.head(3)\n",
    "\n",
    "\n",
    "ax2.barh(df_churned_by_contract_last.index, df_churned_by_contract_last.no_of_customers, color=\"gray\")\n",
    "ax2.barh(df_churned_by_contract_top.index, df_churned_by_contract_top.no_of_customers, color=\"orange\")\n",
    "\n",
    "ax2.set_xlabel(\"Number of customers\", fontsize=10)\n",
    "ax2.set_title(\"57% of churning customers use electronic checkfor payment\", fontsize=15)\n",
    "ax2.spines['top'].set_visible(False)\n",
    "# ax.spines['bottom'].set_visible(False)\n",
    "ax2.spines['left'].set_visible(False)\n",
    "ax2.spines['right'].set_visible(False)"
   ]
  },
  {
   "cell_type": "code",
   "execution_count": 13,
   "id": "55d4913b",
   "metadata": {},
   "outputs": [],
   "source": [
    "#churning customers using fiber optics internet service\n",
    "df_churn_fiber = df_churned[df_churned.InternetService == \"Fiber optic\"]\n",
    "#churning customers using fiber optics internet service\n",
    "df_no_churn_fiber = df_no_churned[df_no_churned.InternetService == \"Fiber optic\"]\n",
    "#churning customers using electronic check as prefered payment method\n",
    "df_churn_elect_pay = df_churned[df_churned.PaymentMethod == \"Electronic check\"]\n",
    "#churning customers not using electronic check as prefered payment method\n",
    "df_no_churn_elect_pay = df_no_churned[df_no_churned.PaymentMethod == \"Electronic check\"]"
   ]
  },
  {
   "cell_type": "code",
   "execution_count": 58,
   "id": "731832cc",
   "metadata": {},
   "outputs": [
    {
     "data": {
      "text/html": [
       "<div>\n",
       "<style scoped>\n",
       "    .dataframe tbody tr th:only-of-type {\n",
       "        vertical-align: middle;\n",
       "    }\n",
       "\n",
       "    .dataframe tbody tr th {\n",
       "        vertical-align: top;\n",
       "    }\n",
       "\n",
       "    .dataframe thead th {\n",
       "        text-align: right;\n",
       "    }\n",
       "</style>\n",
       "<table border=\"1\" class=\"dataframe\">\n",
       "  <thead>\n",
       "    <tr style=\"text-align: right;\">\n",
       "      <th></th>\n",
       "      <th>no_of_customers</th>\n",
       "    </tr>\n",
       "    <tr>\n",
       "      <th>TechSupport</th>\n",
       "      <th></th>\n",
       "    </tr>\n",
       "  </thead>\n",
       "  <tbody>\n",
       "    <tr>\n",
       "      <th>No</th>\n",
       "      <td>1101</td>\n",
       "    </tr>\n",
       "    <tr>\n",
       "      <th>Yes</th>\n",
       "      <td>196</td>\n",
       "    </tr>\n",
       "  </tbody>\n",
       "</table>\n",
       "</div>"
      ],
      "text/plain": [
       "             no_of_customers\n",
       "TechSupport                 \n",
       "No                      1101\n",
       "Yes                      196"
      ]
     },
     "execution_count": 58,
     "metadata": {},
     "output_type": "execute_result"
    }
   ],
   "source": [
    "df_churn_fiber_tech = df_churn_fiber.groupby('TechSupport').agg(no_of_customers = ('customerID','count'))\\\n",
    ".sort_values('no_of_customers', ascending=False)"
   ]
  },
  {
   "cell_type": "code",
   "execution_count": 60,
   "id": "fe638f58",
   "metadata": {},
   "outputs": [
    {
     "data": {
      "image/png": "[encoded data removed]",
      "text/plain": [
       "<Figure size 720x288 with 1 Axes>"
      ]
     },
     "metadata": {
      "needs_background": "light"
     },
     "output_type": "display_data"
    }
   ],
   "source": [
    "df_churn_fiber_tech_ = df_churn_fiber_tech.sort_values('no_of_customers', ascending=True)\n",
    "df_churned_by_contract_top = df_churn_fiber_tech_.tail(1)\n",
    "df_churned_by_contract_last = df_churn_fiber_tech_.head(1)\n",
    "\n",
    "fig, ax = plt.subplots(figsize=(10, 4))\n",
    "\n",
    "\n",
    "ax.barh(df_churned_by_contract_last.index, df_churned_by_contract_last.no_of_customers, color=\"gray\")\n",
    "ax.barh(df_churned_by_contract_top.index, df_churned_by_contract_top.no_of_customers, color=\"orange\")\n",
    "\n",
    "ax.set_xlabel(\"Number of customers\", fontsize=10)\n",
    "ax.set_title(\"85% of churning customers that use fiber optics internet service do not have tech support\", fontsize=15)\n",
    "ax.spines['top'].set_visible(False)\n",
    "# ax.spines['bottom'].set_visible(False)\n",
    "ax.spines['left'].set_visible(False)\n",
    "ax.spines['right'].set_visible(False)"
   ]
  },
  {
   "cell_type": "code",
   "execution_count": 19,
   "id": "e5696f83",
   "metadata": {},
   "outputs": [
    {
     "data": {
      "text/plain": [
       "'95% of churning customers that use fiber optics internet service do not have tech support or are on Month-to-month contract'"
      ]
     },
     "execution_count": 19,
     "metadata": {},
     "output_type": "execute_result"
    }
   ],
   "source": [
    "str(round((df_churn_fiber[(df_churn_fiber.TechSupport == \"No\") | (df_churn_fiber.Contract == \"Month-to-month\")]\\\n",
    "       ['Contract'].count()/df_churn_fiber.customerID.count())*100))\\\n",
    "+\"% of churning customers that use fiber optics internet service do not have\\\n",
    "tech support or are on Month-to-month contract\""
   ]
  },
  {
   "cell_type": "code",
   "execution_count": 61,
   "id": "9389e156",
   "metadata": {},
   "outputs": [
    {
     "data": {
      "text/html": [
       "<div>\n",
       "<style scoped>\n",
       "    .dataframe tbody tr th:only-of-type {\n",
       "        vertical-align: middle;\n",
       "    }\n",
       "\n",
       "    .dataframe tbody tr th {\n",
       "        vertical-align: top;\n",
       "    }\n",
       "\n",
       "    .dataframe thead th {\n",
       "        text-align: right;\n",
       "    }\n",
       "</style>\n",
       "<table border=\"1\" class=\"dataframe\">\n",
       "  <thead>\n",
       "    <tr style=\"text-align: right;\">\n",
       "      <th></th>\n",
       "      <th>no_of_customers</th>\n",
       "    </tr>\n",
       "    <tr>\n",
       "      <th>TechSupport</th>\n",
       "      <th></th>\n",
       "    </tr>\n",
       "  </thead>\n",
       "  <tbody>\n",
       "    <tr>\n",
       "      <th>No</th>\n",
       "      <td>1129</td>\n",
       "    </tr>\n",
       "    <tr>\n",
       "      <th>Yes</th>\n",
       "      <td>670</td>\n",
       "    </tr>\n",
       "  </tbody>\n",
       "</table>\n",
       "</div>"
      ],
      "text/plain": [
       "             no_of_customers\n",
       "TechSupport                 \n",
       "No                      1129\n",
       "Yes                      670"
      ]
     },
     "execution_count": 61,
     "metadata": {},
     "output_type": "execute_result"
    }
   ],
   "source": [
    "df_no_churn_fiber_tech = df_no_churn_fiber.groupby('TechSupport').agg(no_of_customers = ('customerID','count'))\\\n",
    ".sort_values('no_of_customers', ascending=False)"
   ]
  },
  {
   "cell_type": "code",
   "execution_count": 73,
   "id": "0486464f",
   "metadata": {},
   "outputs": [
    {
     "data": {
      "image/png": "[encoded data removed]",
      "text/plain": [
       "<Figure size 720x288 with 1 Axes>"
      ]
     },
     "metadata": {
      "needs_background": "light"
     },
     "output_type": "display_data"
    }
   ],
   "source": [
    "df_no_churn_fiber_tech_ = df_no_churn_fiber_tech.sort_values('no_of_customers', ascending=True)\n",
    "df_churned_by_contract_top = df_no_churn_fiber_tech_.tail(1)\n",
    "df_churned_by_contract_last = df_no_churn_fiber_tech_.head(1)\n",
    "\n",
    "fig, ax = plt.subplots(figsize=(10, 4))\n",
    "\n",
    "ax.barh(df_churned_by_contract_top.index, df_churned_by_contract_top.no_of_customers, color=\"gray\")\n",
    "ax.barh(df_churned_by_contract_last.index, df_churned_by_contract_last.no_of_customers, color=\"green\")\n",
    "\n",
    "\n",
    "ax.set_xlabel(\"Number of customers\", fontsize=10)\n",
    "ax.set_title(\"37% of Returning customers that use fiber optics internet service also have Tech support\", fontsize=15)\n",
    "ax.spines['top'].set_visible(False)\n",
    "# ax.spines['bottom'].set_visible(False)\n",
    "ax.spines['left'].set_visible(False)\n",
    "ax.spines['right'].set_visible(False)"
   ]
  },
  {
   "cell_type": "code",
   "execution_count": 21,
   "id": "4588eb85",
   "metadata": {},
   "outputs": [
    {
     "data": {
      "text/plain": [
       "'58% of Non churning customers that use fiber optics internet service do no have tech support or are not on Month-to-month contract'"
      ]
     },
     "execution_count": 21,
     "metadata": {},
     "output_type": "execute_result"
    }
   ],
   "source": [
    "str(round((df_no_churn_fiber[(df_no_churn_fiber.TechSupport == \"Yes\") | (df_no_churn_fiber.Contract != \"Month-to-month\")]\\\n",
    "       ['Contract'].count()/df_no_churn_fiber.customerID.count())*100))\\\n",
    "+\"% of Non churning customers that use fiber optics internet service have tech support\\\n",
    "or are not on Month-to-month contract\""
   ]
  },
  {
   "cell_type": "code",
   "execution_count": 22,
   "id": "09b31715",
   "metadata": {},
   "outputs": [
    {
     "data": {
      "text/plain": [
       "'97% of Non churning customers that use electronic check payment method have No tech supportor are on Month-to-month contract'"
      ]
     },
     "execution_count": 22,
     "metadata": {},
     "output_type": "execute_result"
    }
   ],
   "source": [
    "str(round((df_churn_elect_pay[(df_churn_elect_pay.TechSupport == \"No\") | \\\n",
    "                              (df_churn_elect_pay.Contract == \"Month-to-month\")]\\\n",
    "       ['Contract'].count()/df_churn_elect_pay.customerID.count())*100))\\\n",
    "+\"% of churning customers that use electronic check payment method have No tech support\\\n",
    "or are on Month-to-month contract\""
   ]
  },
  {
   "cell_type": "code",
   "execution_count": 23,
   "id": "2bd35feb",
   "metadata": {},
   "outputs": [
    {
     "data": {
      "text/plain": [
       "'47% of Non churning customers that use electronic check payment method have tech supportor are Not on Month-to-month contract'"
      ]
     },
     "execution_count": 23,
     "metadata": {},
     "output_type": "execute_result"
    }
   ],
   "source": [
    "str(round((df_no_churn_elect_pay[(df_no_churn_elect_pay.TechSupport == \"Yes\") |\\\n",
    "                                 (df_no_churn_elect_pay.Contract != \"Month-to-month\")]\\\n",
    "       ['Contract'].count()/df_no_churn_elect_pay.customerID.count())*100))\\\n",
    "+\"% of Non churning customers that use electronic check payment method have tech support\\\n",
    "or are Not on Month-to-month contract\""
   ]
  },
  {
   "cell_type": "code",
   "execution_count": 27,
   "id": "ed307606",
   "metadata": {
    "scrolled": true
   },
   "outputs": [
    {
     "data": {
      "image/png": "[encoded data removed]",
      "text/plain": [
       "<Figure size 720x288 with 1 Axes>"
      ]
     },
     "metadata": {
      "needs_background": "light"
     },
     "output_type": "display_data"
    }
   ],
   "source": [
    "to_plot = [df_churned.MonthlyCharges, df_no_churned.MonthlyCharges]\n",
    "fig, ax = plt.subplots(figsize=(10, 4))\n",
    "ax.boxplot(to_plot, labels=[\"Churned\", \"Returning\"])\n",
    "\n",
    "ax.set_ylabel(\"Monthly Charges\", fontsize=10)\n",
    "ax.set_title(\"Churning customers had higher monthly charge \", fontsize=15)\n",
    "ax.spines['top'].set_visible(False)\n",
    "ax.spines['bottom'].set_visible(False)\n",
    "ax.spines['left'].set_visible(False)\n",
    "ax.spines['right'].set_visible(False)"
   ]
  },
  {
   "cell_type": "markdown",
   "id": "157d3b16",
   "metadata": {},
   "source": [
    "### Summary"
   ]
  },
  {
   "cell_type": "markdown",
   "id": "448a51f2",
   "metadata": {},
   "source": [
    "#### INSIGHTS\n",
    "\n",
    "1. Month-to-month Contract type and absence of Tech support are the biggest causes for customers churning.\n",
    "2. Though some other services like payment type, intrnet service, online security, online backup, paper billing, device protection and multiple lines are poorly available to the churning customers, these services are strongly influenced by availability of Tech support.\n",
    "3. On average most customers who churned had higher monthly charges."
   ]
  },
  {
   "cell_type": "markdown",
   "id": "fb65f1fb",
   "metadata": {},
   "source": [
    "#### Recomendations\n",
    "\n",
    "1. Prioratize TECH SUPPORT making it more readily available to the customers.\n",
    "2. Offer incentives for longer contracts like discounted rates, free services, or additional features.\n",
    "3. Consider introducng MID-LENGTH contracts like six-month contract.\n",
    "4. Get feedbacks from churned customers.\n",
    "5. Clearly communicate and educate customers on the benefits of long-term contracts like cost-saving and locked-in rates\n",
    "6. Implement customer retention programs that target subscribers with month-to-month contracts. this could be in form of special offers or loyalty rewards."
   ]
  }
 ],
 "metadata": {
  "kernelspec": {
   "display_name": "Python 3 (ipykernel)",
   "language": "python",
   "name": "python3"
  },
  "language_info": {
   "codemirror_mode": {
    "name": "ipython",
    "version": 3
   },
   "file_extension": ".py",
   "mimetype": "text/x-python",
   "name": "python",
   "nbconvert_exporter": "python",
   "pygments_lexer": "ipython3",
   "version": "3.9.12"
  }
 },
 "nbformat": 4,
 "nbformat_minor": 5
}
